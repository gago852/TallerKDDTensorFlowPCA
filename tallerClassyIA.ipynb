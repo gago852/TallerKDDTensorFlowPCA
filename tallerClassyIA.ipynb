{
 "metadata": {
  "language_info": {
   "codemirror_mode": {
    "name": "ipython",
    "version": 3
   },
   "file_extension": ".py",
   "mimetype": "text/x-python",
   "name": "python",
   "nbconvert_exporter": "python",
   "pygments_lexer": "ipython3",
   "version": "3.7.9-final"
  },
  "orig_nbformat": 2,
  "kernelspec": {
   "name": "Python 3.7.9 64-bit ('python37': conda)",
   "display_name": "Python 3.7.9 64-bit ('python37': conda)",
   "metadata": {
    "interpreter": {
     "hash": "dafc5c0e3e943e29bb3c54d62d3dddf716691f4959a81fc76b2d95fe45096a74"
    }
   }
  }
 },
 "nbformat": 4,
 "nbformat_minor": 2,
 "cells": [
  {
   "cell_type": "code",
   "execution_count": null,
   "metadata": {
    "tags": []
   },
   "outputs": [],
   "source": [
    "#integrantes: GABRIEL GOMEZ, EDUARDO DE LA HOZ, STEPHANIA DE LA HOZ"
   ]
  },
  {
   "cell_type": "code",
   "execution_count": null,
   "metadata": {},
   "outputs": [],
   "source": [
    "import numpy as np\n",
    "import pandas as pd\n",
    "import scipy.linalg as la\n",
    "from keras.models import Sequential\n",
    "from keras.layers.core import Dense"
   ]
  },
  {
   "cell_type": "code",
   "execution_count": null,
   "metadata": {},
   "outputs": [],
   "source": [
    "def cleaner(df,k):\n",
    "    return df[(abs(df[0]-np.mean(df[0])) <= k*np.std(df[0])) & (abs(df[1]-np.mean(df[1])) <= k*np.std(df[1])) & (abs(df[2]-np.mean(df[2])) <= k*np.std(df[2])) & (abs(df[3]-np.mean(df[3])) <= k*np.std(df[3]))]"
   ]
  },
  {
   "cell_type": "code",
   "execution_count": null,
   "metadata": {},
   "outputs": [],
   "source": [
    "df=pd.read_table('irisdata.txt',skiprows=9,header=None)\n",
    "dfClean=df.copy()\n",
    "cat=df.iloc[:,4]\n",
    "catn=cat.replace([1,2],[0.5,1])\n",
    "catn=np.array(catn)\n",
    "dfFlores=df.copy()\n",
    "df=df.drop(columns=4)\n",
    "rawdata=np.array(df)\n",
    "covRawData = np.cov(rawdata.T)\n",
    "resultRaw = la.eig(covRawData)\n",
    "eugenVector=resultRaw[1]\n",
    "eugenValors=resultRaw[0].real"
   ]
  },
  {
   "cell_type": "code",
   "execution_count": null,
   "metadata": {},
   "outputs": [],
   "source": [
    "p_train = 0.80 # Porcentaje de train.\n",
    "\n",
    "dfFlores['entrenamiento'] = np.random.uniform(0, 1, len(dfFlores)) <= p_train\n",
    "train, test = dfFlores[dfFlores['entrenamiento']==True], dfFlores[dfFlores['entrenamiento']==False]\n",
    "dfFlores = dfFlores.drop('entrenamiento', 1)\n",
    "\n"
   ]
  },
  {
   "cell_type": "code",
   "execution_count": null,
   "metadata": {},
   "outputs": [],
   "source": [
    "modelo=Sequential()\n",
    "modelo.add(Dense(10,input_dim=2, activation='sigmoid'))\n",
    "modelo.add(Dense(1, activation='relu'))\n",
    "modelo.compile(loss='mean_squared_error', optimizer='adam', metrics=['binary_accuracy'])\n"
   ]
  }
 ]
}